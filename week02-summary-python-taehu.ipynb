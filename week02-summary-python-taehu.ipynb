{
 "cells": [
  {
   "cell_type": "markdown",
   "id": "e4348de0",
   "metadata": {},
   "source": [
    "# 내장함수"
   ]
  },
  {
   "cell_type": "code",
   "execution_count": 1,
   "id": "fe7530be",
   "metadata": {},
   "outputs": [
    {
     "data": {
      "text/plain": [
       "3"
      ]
     },
     "execution_count": 1,
     "metadata": {},
     "output_type": "execute_result"
    }
   ],
   "source": [
    "abs(-3)"
   ]
  },
  {
   "cell_type": "code",
   "execution_count": 2,
   "id": "a5e5efd8",
   "metadata": {},
   "outputs": [
    {
     "data": {
      "text/plain": [
       "True"
      ]
     },
     "execution_count": 2,
     "metadata": {},
     "output_type": "execute_result"
    }
   ],
   "source": [
    "bool('py')"
   ]
  },
  {
   "cell_type": "code",
   "execution_count": 3,
   "id": "9089076d",
   "metadata": {},
   "outputs": [
    {
     "name": "stdout",
     "output_type": "stream",
     "text": [
      "0\n",
      "2\n",
      "4\n",
      "6\n",
      "8\n"
     ]
    }
   ],
   "source": [
    "for i in range(5):\n",
    "    print(i * 2)"
   ]
  },
  {
   "cell_type": "code",
   "execution_count": 4,
   "id": "a23bd8d9",
   "metadata": {},
   "outputs": [
    {
     "name": "stdout",
     "output_type": "stream",
     "text": [
      "1 2 3 4 5 6 7 8 9 10 "
     ]
    }
   ],
   "source": [
    "for i in range(1, 11):\n",
    "    print(i, end=' ')"
   ]
  },
  {
   "cell_type": "code",
   "execution_count": 5,
   "id": "8472783e",
   "metadata": {},
   "outputs": [
    {
     "name": "stdout",
     "output_type": "stream",
     "text": [
      "10\n",
      "20\n",
      "30\n"
     ]
    }
   ],
   "source": [
    "for i in [10, 20 ,30]:\n",
    "    print(i)"
   ]
  },
  {
   "cell_type": "code",
   "execution_count": 6,
   "id": "95de3bfd",
   "metadata": {},
   "outputs": [
    {
     "name": "stdout",
     "output_type": "stream",
     "text": [
      "10\n",
      "20\n",
      "30\n"
     ]
    }
   ],
   "source": [
    "for i in {10: '십', 20:'이십', 30:'삼십'}:\n",
    "    print(i)"
   ]
  },
  {
   "cell_type": "code",
   "execution_count": 7,
   "id": "d1190347",
   "metadata": {},
   "outputs": [
    {
     "name": "stdout",
     "output_type": "stream",
     "text": [
      "십\n",
      "이십\n",
      "삼십\n"
     ]
    }
   ],
   "source": [
    "data = {10:'십', 20:'이십', 30:'삼십'}\n",
    "for i in data:\n",
    "    print(data[i])"
   ]
  },
  {
   "cell_type": "code",
   "execution_count": 8,
   "id": "32277104",
   "metadata": {},
   "outputs": [
    {
     "name": "stdout",
     "output_type": "stream",
     "text": [
      "5\n"
     ]
    }
   ],
   "source": [
    "arr1 = [1, 2 , 3, 4, 5]\n",
    "print(len(arr1))"
   ]
  },
  {
   "cell_type": "code",
   "execution_count": 9,
   "id": "d16c557f",
   "metadata": {},
   "outputs": [],
   "source": [
    "day = ['월', '화', '수', '목', '금', '토', '일']"
   ]
  },
  {
   "cell_type": "code",
   "execution_count": 10,
   "id": "9b25ea17",
   "metadata": {},
   "outputs": [
    {
     "data": {
      "text/plain": [
       "['화', '수']"
      ]
     },
     "execution_count": 10,
     "metadata": {},
     "output_type": "execute_result"
    }
   ],
   "source": [
    "day[1:3]"
   ]
  },
  {
   "cell_type": "code",
   "execution_count": 11,
   "id": "88a456b5",
   "metadata": {},
   "outputs": [
    {
     "data": {
      "text/plain": [
       "['수', '목']"
      ]
     },
     "execution_count": 11,
     "metadata": {},
     "output_type": "execute_result"
    }
   ],
   "source": [
    "day[2:4]"
   ]
  },
  {
   "cell_type": "code",
   "execution_count": 12,
   "id": "98337ef2",
   "metadata": {},
   "outputs": [
    {
     "data": {
      "text/plain": [
       "['목', '금']"
      ]
     },
     "execution_count": 12,
     "metadata": {},
     "output_type": "execute_result"
    }
   ],
   "source": [
    "day[-4: -2]"
   ]
  },
  {
   "cell_type": "code",
   "execution_count": 13,
   "id": "1f8a603d",
   "metadata": {},
   "outputs": [
    {
     "data": {
      "text/plain": [
       "['목', '금', '토', '일']"
      ]
     },
     "execution_count": 13,
     "metadata": {},
     "output_type": "execute_result"
    }
   ],
   "source": [
    "day[-4:]"
   ]
  },
  {
   "cell_type": "code",
   "execution_count": 14,
   "id": "f0a2fbf7",
   "metadata": {},
   "outputs": [
    {
     "data": {
      "text/plain": [
       "['화', '목']"
      ]
     },
     "execution_count": 14,
     "metadata": {},
     "output_type": "execute_result"
    }
   ],
   "source": [
    "day[1:4:2]"
   ]
  },
  {
   "cell_type": "code",
   "execution_count": 15,
   "id": "ce2a6243",
   "metadata": {},
   "outputs": [
    {
     "data": {
      "text/plain": [
       "['일', '금', '수', '월']"
      ]
     },
     "execution_count": 15,
     "metadata": {},
     "output_type": "execute_result"
    }
   ],
   "source": [
    "day[-1:-8:-2]"
   ]
  },
  {
   "cell_type": "code",
   "execution_count": 16,
   "id": "acba27a5",
   "metadata": {},
   "outputs": [
    {
     "name": "stdout",
     "output_type": "stream",
     "text": [
      "4\n"
     ]
    }
   ],
   "source": [
    "import random \n",
    "dice = random.randint(1, 6)\n",
    "print(dice)"
   ]
  },
  {
   "cell_type": "code",
   "execution_count": 17,
   "id": "f0941d23",
   "metadata": {},
   "outputs": [
    {
     "name": "stdout",
     "output_type": "stream",
     "text": [
      "1.4142135623730951\n",
      "<built-in function sqrt>\n"
     ]
    }
   ],
   "source": [
    "import math\n",
    "\n",
    "print(math.sqrt(2))\n",
    "print(math.sqrt)"
   ]
  },
  {
   "cell_type": "code",
   "execution_count": 19,
   "id": "1758c1a8",
   "metadata": {},
   "outputs": [
    {
     "name": "stdout",
     "output_type": "stream",
     "text": [
      "패스워드를 입력하세요: 12345\n",
      "로그인이 되었습니다.\n"
     ]
    }
   ],
   "source": [
    "password = input('패스워드를 입력하세요: ')\n",
    "if (int(password) == 12345):\n",
    "    print('로그인이 되었습니다.')\n",
    "elif(int(password) == 11111):\n",
    "    print('관리자 권한입니다.')\n",
    "else:\n",
    "    print('로그인에 실패하였습니다.')"
   ]
  },
  {
   "cell_type": "code",
   "execution_count": 20,
   "id": "4583817a",
   "metadata": {},
   "outputs": [
    {
     "name": "stdout",
     "output_type": "stream",
     "text": [
      "[1, 2, 3, 4, 5]\n",
      "5\n",
      "[1, 2, 3, 4, 5, 6]\n",
      "6\n"
     ]
    }
   ],
   "source": [
    "arr1 = [1, 2, 3, 4, 5]\n",
    "\n",
    "print(arr1)\n",
    "print(len(arr1))\n",
    "arr1.append(6)\n",
    "print(arr1)\n",
    "print(len(arr1))"
   ]
  },
  {
   "cell_type": "code",
   "execution_count": 21,
   "id": "b1b6cfc6",
   "metadata": {},
   "outputs": [
    {
     "name": "stdout",
     "output_type": "stream",
     "text": [
      "['월', '화', '수', '목', '금', '토']\n",
      "6\n",
      "['월', '화', '수', '목', '금', '토', '일']\n",
      "7\n"
     ]
    }
   ],
   "source": [
    "arr2 = ['월', '화', '수', '목', '금', '토']\n",
    "print(arr2)\n",
    "print(len(arr2))\n",
    "arr2.append('일')\n",
    "print(arr2)\n",
    "print(len(arr2))"
   ]
  },
  {
   "cell_type": "code",
   "execution_count": null,
   "id": "8d26cead",
   "metadata": {},
   "outputs": [],
   "source": []
  }
 ],
 "metadata": {
  "kernelspec": {
   "display_name": "Python 3 (ipykernel)",
   "language": "python",
   "name": "python3"
  },
  "language_info": {
   "codemirror_mode": {
    "name": "ipython",
    "version": 3
   },
   "file_extension": ".py",
   "mimetype": "text/x-python",
   "name": "python",
   "nbconvert_exporter": "python",
   "pygments_lexer": "ipython3",
   "version": "3.9.13"
  }
 },
 "nbformat": 4,
 "nbformat_minor": 5
}
